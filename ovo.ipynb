{
 "cells": [
  {
   "cell_type": "code",
   "execution_count": 1,
   "id": "104e31ab",
   "metadata": {},
   "outputs": [
    {
     "name": "stdout",
     "output_type": "stream",
     "text": [
      "Current training device: Cuda.\n"
     ]
    }
   ],
   "source": [
    "import SVM.SVC as svc\n",
    "import global_resources as gr\n",
    "import numpy as np\n",
    "import torch\n",
    "import os\n",
    "import kmc_torch.kmc as kmc"
   ]
  },
  {
   "cell_type": "code",
   "execution_count": 2,
   "id": "cf29986b",
   "metadata": {},
   "outputs": [
    {
     "name": "stdout",
     "output_type": "stream",
     "text": [
      "Reading files from: D:\\ImportanFiles\\Coding Related\\Repositories\\Quantitative-Investment-Algorithms\\Data\\breast-cancer-wisconsin.data\n",
      "Current device: Cuda.\n"
     ]
    }
   ],
   "source": [
    "# Example Data process\n",
    "# Read data as pandas dataframe\n",
    "data_path = os.path.join(gr.default_dir, r'Data\\breast-cancer-wisconsin.data')\n",
    "df = gr.read_and_return_pd_df(data_path)\n",
    "\n",
    "# Process & drop Nan(not a number) values\n",
    "df.replace('?', np.nan, inplace = True)\n",
    "df.dropna(inplace = True)\n",
    "\n",
    "# Drop useless data column\n",
    "df.drop(['id'], axis = 1, inplace = True)\n",
    "df[\"bare_nuclei\"] = df[\"bare_nuclei\"].astype(np.int64)\n",
    "\n",
    "# Set device\n",
    "device = gr.set_device()\n",
    "print(f\"Current device: {device.capitalize()}.\")\n",
    "\n",
    "# Set X as datatype: np.array()\n",
    "X = np.array(df.drop(['class'], axis = 1)).astype('float64')\n",
    "# Set X_gpu as datatype: torch.tensor()\n",
    "X_gpu = torch.tensor(X, device = device, dtype = torch.float64)"
   ]
  },
  {
   "cell_type": "code",
   "execution_count": 3,
   "id": "3cfd6724",
   "metadata": {},
   "outputs": [
    {
     "name": "stdout",
     "output_type": "stream",
     "text": [
      "Clustering with: k = 4.\n",
      "Initiating centroids with k being 4...\n",
      "Initiating centroids with k being 4...\n",
      "Initiating centroids with k being 4...\n",
      "Initiating centroids with k being 4...\n",
      "Initiating centroids with k being 4...\n",
      "Initiating centroids with k being 4...\n",
      "Initiating centroids with k being 4...\n",
      "Initiating centroids with k being 4...\n",
      "Initiating centroids with k being 4...\n",
      "Initiating centroids with k being 4...\n",
      "torch.Size([683, 9])\n",
      "torch.Size([683])\n",
      "[0, 1, 2, 3]\n"
     ]
    }
   ],
   "source": [
    "X, y, _, _ = kmc.WCSS_for_single_k(X_gpu, k = 4)\n",
    "print(X.shape)\n",
    "print(y.shape)\n",
    "print(y.unique().tolist())"
   ]
  },
  {
   "cell_type": "code",
   "execution_count": 4,
   "id": "407a2ce2",
   "metadata": {},
   "outputs": [
    {
     "name": "stdout",
     "output_type": "stream",
     "text": [
      "-------------------------------------------------------------------------------------------------------\n",
      "Training on label a: 0 and label b: 1\n",
      "Creating random weights and bias with dtype: torch.float64\n",
      "Training with loss function: hinge loss with l2 penalty on weights.\n",
      "Training with relative breaker.\n",
      "Epoch 0 | Loss: 7.500845804491054 | Relative Ratio: None\n",
      "Epoch 1 | Loss: 7.291611979943963 | Relative Ratio: 1.0286951397198043\n",
      "Epoch 500 | Loss: 0.09190152655525698 | Relative Ratio: 1.0014680284675754\n",
      "Epoch 1000 | Loss: 0.061491573838861634 | Relative Ratio: 1.0017476876735025\n",
      "Epoch 1500 | Loss: 0.052967911013032526 | Relative Ratio: 1.000056407289852\n",
      "Epoch 2000 | Loss: 0.051456075117755 | Relative Ratio: 1.0000209586680062\n",
      "Epoch 2500 | Loss: 0.05123668418542489 | Relative Ratio: 1.0000226746686482\n",
      "Epoch 3000 | Loss: 0.05098101894136879 | Relative Ratio: 1.000006143568722\n",
      "Epoch 3500 | Loss: 0.05071839194399095 | Relative Ratio: 1.000006102654233\n",
      "Epoch 4000 | Loss: 0.050487302992112945 | Relative Ratio: 1.0000092520793726\n",
      "Epoch 4500 | Loss: 0.05021676765254368 | Relative Ratio: 1.0000342048815174\n",
      "Epoch 4609 | Loss: 0.050151543144847294 | Relative Ratio: 1.0000081448016869\n",
      "Exited with relative_ratio consecutively being smaller than 1e-05 from epoch 4599 to epoch 4609.\n",
      "-------------------------------------------------------------------------------------------------------\n",
      "Training on label a: 0 and label b: 2\n",
      "Creating random weights and bias with dtype: torch.float64\n",
      "Training with loss function: hinge loss with l2 penalty on weights.\n",
      "Training with relative breaker.\n",
      "Epoch 0 | Loss: 23.95020571035011 | Relative Ratio: None\n",
      "Epoch 1 | Loss: 21.72346495627112 | Relative Ratio: 1.1025039402582126\n",
      "Epoch 500 | Loss: 0.3274047868300152 | Relative Ratio: 1.0000006450125911\n",
      "Epoch 1000 | Loss: 0.3249444551946406 | Relative Ratio: 1.0000634275075158\n",
      "Epoch 1449 | Loss: 0.32299595871986053 | Relative Ratio: 1.0000070328444817\n",
      "Exited with relative_ratio consecutively being smaller than 1e-05 from epoch 1439 to epoch 1449.\n",
      "-------------------------------------------------------------------------------------------------------\n",
      "Training on label a: 0 and label b: 3\n",
      "Creating random weights and bias with dtype: torch.float64\n",
      "Training with loss function: hinge loss with l2 penalty on weights.\n",
      "Training with relative breaker.\n",
      "Epoch 0 | Loss: 14.718279986926852 | Relative Ratio: None\n",
      "Epoch 1 | Loss: 13.515067453736613 | Relative Ratio: 1.0890274900446448\n",
      "Epoch 500 | Loss: 0.1053906663444468 | Relative Ratio: 1.0000286985638551\n",
      "Epoch 1000 | Loss: 0.10492140152813866 | Relative Ratio: 1.0000100319646101\n",
      "Epoch 1255 | Loss: 0.10468141150850181 | Relative Ratio: 1.000009941076358\n",
      "Exited with relative_ratio consecutively being smaller than 1e-05 from epoch 1245 to epoch 1255.\n",
      "-------------------------------------------------------------------------------------------------------\n",
      "Training on label a: 1 and label b: 2\n",
      "Creating random weights and bias with dtype: torch.float64\n",
      "Training with loss function: hinge loss with l2 penalty on weights.\n",
      "Training with relative breaker.\n",
      "Epoch 0 | Loss: 7.084605717326313 | Relative Ratio: None\n",
      "Epoch 1 | Loss: 6.886655946878549 | Relative Ratio: 1.028743961071191\n",
      "Epoch 500 | Loss: 0.008009350520654065 | Relative Ratio: 1.000083963693325\n",
      "Epoch 1000 | Loss: 0.007848738302224857 | Relative Ratio: 1.0000139239956118\n",
      "Epoch 1413 | Loss: 0.007825373865171932 | Relative Ratio: 1.000001722439932\n",
      "Exited with relative_ratio consecutively being smaller than 1e-05 from epoch 1403 to epoch 1413.\n",
      "-------------------------------------------------------------------------------------------------------\n",
      "Training on label a: 1 and label b: 3\n",
      "Creating random weights and bias with dtype: torch.float64\n",
      "Training with loss function: hinge loss with l2 penalty on weights.\n",
      "Training with relative breaker.\n",
      "Epoch 0 | Loss: 3.286735556010456 | Relative Ratio: None\n",
      "Epoch 1 | Loss: 3.1964344307548984 | Relative Ratio: 1.0282505795791441\n",
      "Epoch 500 | Loss: 0.03656995701926747 | Relative Ratio: 1.0008044308943493\n",
      "Epoch 1000 | Loss: 0.020721140690196357 | Relative Ratio: 0.9966194383656748\n",
      "Epoch 1500 | Loss: 0.019067153335236287 | Relative Ratio: 1.0000257085956858\n",
      "Epoch 1875 | Loss: 0.018886934495254734 | Relative Ratio: 1.0000075242790092\n",
      "Exited with relative_ratio consecutively being smaller than 1e-05 from epoch 1865 to epoch 1875.\n",
      "-------------------------------------------------------------------------------------------------------\n",
      "Training on label a: 2 and label b: 3\n",
      "Creating random weights and bias with dtype: torch.float64\n",
      "Training with loss function: hinge loss with l2 penalty on weights.\n",
      "Training with relative breaker.\n",
      "Epoch 0 | Loss: 13.995351240728803 | Relative Ratio: None\n",
      "Epoch 1 | Loss: 13.40411122107792 | Relative Ratio: 1.0441088565962628\n",
      "Epoch 500 | Loss: 0.12321440994939037 | Relative Ratio: 1.0002665000179312\n",
      "Epoch 1000 | Loss: 0.11882704271820922 | Relative Ratio: 1.0000030070349764\n",
      "Epoch 1016 | Loss: 0.11881936749452097 | Relative Ratio: 1.0000088452419793\n",
      "Exited with relative_ratio consecutively being smaller than 1e-05 from epoch 1006 to epoch 1016.\n"
     ]
    }
   ],
   "source": [
    "dic = svc.ovo_train(\n",
    "    X,\n",
    "    y,\n",
    "    num_epochs = int(1e4),\n",
    "    l2_penalty = True,\n",
    "    print_every = int(500),\n",
    "    delta_loss_breaker = float(1e-5),\n",
    "    patience = int(10),\n",
    "    relative = True,\n",
    "    relative_breaker = 1e-5\n",
    ")"
   ]
  },
  {
   "cell_type": "code",
   "execution_count": 5,
   "id": "5e9f416b",
   "metadata": {},
   "outputs": [],
   "source": [
    "votes = svc.ovo_predict(dic, X, y.dtype)"
   ]
  },
  {
   "cell_type": "code",
   "execution_count": 6,
   "id": "7ae43e3b",
   "metadata": {},
   "outputs": [
    {
     "data": {
      "application/vnd.microsoft.datawrangler.viewer.v0+json": {
       "columns": [
        {
         "name": "index",
         "rawType": "int64",
         "type": "integer"
        },
        {
         "name": "0",
         "rawType": "int64",
         "type": "integer"
        }
       ],
       "conversionMethod": "pd.DataFrame",
       "ref": "eadd8e94-a49a-49e8-9bd8-ffbbb0513bc5",
       "rows": [
        [
         "0",
         "1"
        ],
        [
         "1",
         "3"
        ],
        [
         "2",
         "1"
        ],
        [
         "3",
         "2"
        ],
        [
         "4",
         "1"
        ],
        [
         "5",
         "2"
        ],
        [
         "6",
         "3"
        ],
        [
         "7",
         "1"
        ],
        [
         "8",
         "1"
        ],
        [
         "9",
         "1"
        ],
        [
         "10",
         "1"
        ],
        [
         "11",
         "1"
        ],
        [
         "12",
         "0"
        ],
        [
         "13",
         "1"
        ],
        [
         "14",
         "2"
        ],
        [
         "15",
         "0"
        ],
        [
         "16",
         "1"
        ],
        [
         "17",
         "1"
        ],
        [
         "18",
         "3"
        ],
        [
         "19",
         "1"
        ],
        [
         "20",
         "3"
        ],
        [
         "21",
         "0"
        ],
        [
         "22",
         "1"
        ],
        [
         "23",
         "1"
        ],
        [
         "24",
         "3"
        ],
        [
         "25",
         "1"
        ],
        [
         "26",
         "1"
        ],
        [
         "27",
         "1"
        ],
        [
         "28",
         "1"
        ],
        [
         "29",
         "1"
        ],
        [
         "30",
         "1"
        ],
        [
         "31",
         "2"
        ],
        [
         "32",
         "1"
        ],
        [
         "33",
         "1"
        ],
        [
         "34",
         "1"
        ],
        [
         "35",
         "0"
        ],
        [
         "36",
         "1"
        ],
        [
         "37",
         "3"
        ],
        [
         "38",
         "2"
        ],
        [
         "39",
         "0"
        ],
        [
         "40",
         "2"
        ],
        [
         "41",
         "2"
        ],
        [
         "42",
         "0"
        ],
        [
         "43",
         "1"
        ],
        [
         "44",
         "2"
        ],
        [
         "45",
         "1"
        ],
        [
         "46",
         "1"
        ],
        [
         "47",
         "2"
        ],
        [
         "48",
         "0"
        ],
        [
         "49",
         "0"
        ]
       ],
       "shape": {
        "columns": 1,
        "rows": 683
       }
      },
      "text/html": [
       "<div>\n",
       "<style scoped>\n",
       "    .dataframe tbody tr th:only-of-type {\n",
       "        vertical-align: middle;\n",
       "    }\n",
       "\n",
       "    .dataframe tbody tr th {\n",
       "        vertical-align: top;\n",
       "    }\n",
       "\n",
       "    .dataframe thead th {\n",
       "        text-align: right;\n",
       "    }\n",
       "</style>\n",
       "<table border=\"1\" class=\"dataframe\">\n",
       "  <thead>\n",
       "    <tr style=\"text-align: right;\">\n",
       "      <th></th>\n",
       "      <th>0</th>\n",
       "    </tr>\n",
       "  </thead>\n",
       "  <tbody>\n",
       "    <tr>\n",
       "      <th>0</th>\n",
       "      <td>1</td>\n",
       "    </tr>\n",
       "    <tr>\n",
       "      <th>1</th>\n",
       "      <td>3</td>\n",
       "    </tr>\n",
       "    <tr>\n",
       "      <th>2</th>\n",
       "      <td>1</td>\n",
       "    </tr>\n",
       "    <tr>\n",
       "      <th>3</th>\n",
       "      <td>2</td>\n",
       "    </tr>\n",
       "    <tr>\n",
       "      <th>4</th>\n",
       "      <td>1</td>\n",
       "    </tr>\n",
       "    <tr>\n",
       "      <th>...</th>\n",
       "      <td>...</td>\n",
       "    </tr>\n",
       "    <tr>\n",
       "      <th>678</th>\n",
       "      <td>1</td>\n",
       "    </tr>\n",
       "    <tr>\n",
       "      <th>679</th>\n",
       "      <td>1</td>\n",
       "    </tr>\n",
       "    <tr>\n",
       "      <th>680</th>\n",
       "      <td>2</td>\n",
       "    </tr>\n",
       "    <tr>\n",
       "      <th>681</th>\n",
       "      <td>2</td>\n",
       "    </tr>\n",
       "    <tr>\n",
       "      <th>682</th>\n",
       "      <td>2</td>\n",
       "    </tr>\n",
       "  </tbody>\n",
       "</table>\n",
       "<p>683 rows × 1 columns</p>\n",
       "</div>"
      ],
      "text/plain": [
       "     0\n",
       "0    1\n",
       "1    3\n",
       "2    1\n",
       "3    2\n",
       "4    1\n",
       "..  ..\n",
       "678  1\n",
       "679  1\n",
       "680  2\n",
       "681  2\n",
       "682  2\n",
       "\n",
       "[683 rows x 1 columns]"
      ]
     },
     "metadata": {},
     "output_type": "display_data"
    }
   ],
   "source": [
    "df_1 = gr.detach_to_pd(votes)\n",
    "display(df_1)"
   ]
  },
  {
   "cell_type": "code",
   "execution_count": 7,
   "id": "7c31bc89",
   "metadata": {},
   "outputs": [
    {
     "name": "stdout",
     "output_type": "stream",
     "text": [
      "Accuracy: 650/683 = 95.17%\n",
      "0.9516837481698389\n"
     ]
    }
   ],
   "source": [
    "acc = svc.ovo_score(X, y, dic)\n",
    "print(acc)"
   ]
  }
 ],
 "metadata": {
  "kernelspec": {
   "display_name": ".venv",
   "language": "python",
   "name": "python3"
  },
  "language_info": {
   "codemirror_mode": {
    "name": "ipython",
    "version": 3
   },
   "file_extension": ".py",
   "mimetype": "text/x-python",
   "name": "python",
   "nbconvert_exporter": "python",
   "pygments_lexer": "ipython3",
   "version": "3.11.8"
  }
 },
 "nbformat": 4,
 "nbformat_minor": 5
}
