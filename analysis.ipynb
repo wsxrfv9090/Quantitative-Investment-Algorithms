{
 "cells": [
  {
   "cell_type": "code",
   "execution_count": 1,
   "id": "cc39fb2e",
   "metadata": {},
   "outputs": [
    {
     "name": "stdout",
     "output_type": "stream",
     "text": [
      "\n",
      "The input file path is: \n",
      "d:\\Important Files\\Repositories\\Quantitative-Investment-Algorithms\\Data\\breast-cancer-wisconsin.data\n",
      "Reading the input file...\n",
      "Current device: Cuda.\n",
      "Current training device: Cuda.\n",
      "\n",
      "The input file path is: \n",
      "d:\\Important Files\\Repositories\\Quantitative-Investment-Algorithms\\Data\\breast-cancer-wisconsin.data\n",
      "Reading the input file...\n",
      "Creating random weights and bias with dtype: torch.float32\n",
      "Current working directory: 'd:\\Important Files\\Repositories\\Quantitative-Investment-Algorithms'.\n",
      "\n"
     ]
    }
   ],
   "source": [
    "import K_means_cluster_module.k_means_cluster as kmc\n",
    "import global_resources as gr\n",
    "import SVM.SVC as svc\n",
    "import CAPM_module.get_regression_line as CAPM\n",
    "import torch\n",
    "import os"
   ]
  },
  {
   "cell_type": "code",
   "execution_count": 2,
   "id": "fdddc05d",
   "metadata": {},
   "outputs": [
    {
     "name": "stdout",
     "output_type": "stream",
     "text": [
      "d:\\Important Files\\Repositories\\Quantitative-Investment-Algorithms\n"
     ]
    }
   ],
   "source": [
    "cdr = gr.ch_dir_to_repo()\n",
    "print(cdr)"
   ]
  },
  {
   "cell_type": "code",
   "execution_count": 3,
   "id": "4894b82a",
   "metadata": {},
   "outputs": [
    {
     "name": "stdout",
     "output_type": "stream",
     "text": [
      "d:\\Important Files\\Repositories\\Quantitative-Investment-Algorithms\\Data\\Stock Data for CAPM\\Stocks\n"
     ]
    }
   ],
   "source": [
    "data_dir = os.path.join(cdr, 'Data', 'Stock Data for CAPM', 'Stocks')\n",
    "print(data_dir)"
   ]
  },
  {
   "cell_type": "code",
   "execution_count": null,
   "id": "d801977d",
   "metadata": {},
   "outputs": [
    {
     "name": "stdout",
     "output_type": "stream",
     "text": [
      "\n",
      "The input file path is: \n",
      "d:\\Important Files\\Repositories\\Quantitative-Investment-Algorithms\\Data\\Stock Data for CAPM\\Stocks\\K线导出_002335_日线数据.xlsx\n",
      "Reading the input file...\n",
      "\n",
      "The input file path is: \n",
      "d:\\Important Files\\Repositories\\Quantitative-Investment-Algorithms\\Data\\Stock Data for CAPM\\Stocks\\K线导出_002546_日线数据.xlsx\n",
      "Reading the input file...\n",
      "\n",
      "The input file path is: \n",
      "d:\\Important Files\\Repositories\\Quantitative-Investment-Algorithms\\Data\\Stock Data for CAPM\\Stocks\\K线导出_002600_日线数据.xlsx\n",
      "Reading the input file...\n",
      "\n",
      "The input file path is: \n",
      "d:\\Important Files\\Repositories\\Quantitative-Investment-Algorithms\\Data\\Stock Data for CAPM\\Stocks\\K线导出_002796_日线数据.xlsx\n",
      "Reading the input file...\n",
      "\n",
      "The input file path is: \n",
      "d:\\Important Files\\Repositories\\Quantitative-Investment-Algorithms\\Data\\Stock Data for CAPM\\Stocks\\K线导出_300118_日线数据.xlsx\n",
      "Reading the input file...\n",
      "\n",
      "The input file path is: \n",
      "d:\\Important Files\\Repositories\\Quantitative-Investment-Algorithms\\Data\\Stock Data for CAPM\\Stocks\\K线导出_300133_日线数据.xlsx\n",
      "Reading the input file...\n",
      "\n",
      "The input file path is: \n",
      "d:\\Important Files\\Repositories\\Quantitative-Investment-Algorithms\\Data\\Stock Data for CAPM\\Stocks\\K线导出_300364_日线数据.xlsx\n",
      "Reading the input file...\n",
      "\n",
      "The input file path is: \n",
      "d:\\Important Files\\Repositories\\Quantitative-Investment-Algorithms\\Data\\Stock Data for CAPM\\Stocks\\K线导出_300750_日线数据.xlsx\n",
      "Reading the input file...\n",
      "\n",
      "The input file path is: \n",
      "d:\\Important Files\\Repositories\\Quantitative-Investment-Algorithms\\Data\\Stock Data for CAPM\\Stocks\\K线导出_300781_日线数据.xlsx\n",
      "Reading the input file...\n",
      "\n",
      "The input file path is: \n",
      "d:\\Important Files\\Repositories\\Quantitative-Investment-Algorithms\\Data\\Stock Data for CAPM\\Stocks\\K线导出_300822_日线数据.xlsx\n",
      "Reading the input file...\n",
      "\n",
      "The input file path is: \n",
      "d:\\Important Files\\Repositories\\Quantitative-Investment-Algorithms\\Data\\Stock Data for CAPM\\Stocks\\K线导出_301135_日线数据.xlsx\n",
      "Reading the input file...\n",
      "\n",
      "The input file path is: \n",
      "d:\\Important Files\\Repositories\\Quantitative-Investment-Algorithms\\Data\\Stock Data for CAPM\\Stocks\\K线导出_301510_日线数据.xlsx\n",
      "Reading the input file...\n",
      "\n",
      "The input file path is: \n",
      "d:\\Important Files\\Repositories\\Quantitative-Investment-Algorithms\\Data\\Stock Data for CAPM\\Stocks\\K线导出_600873_日线数据.xlsx\n",
      "Reading the input file...\n",
      "\n",
      "The input file path is: \n",
      "d:\\Important Files\\Repositories\\Quantitative-Investment-Algorithms\\Data\\Stock Data for CAPM\\Stocks\\K线导出_601766_日线数据.xlsx\n",
      "Reading the input file...\n",
      "\n",
      "The input file path is: \n",
      "d:\\Important Files\\Repositories\\Quantitative-Investment-Algorithms\\Data\\Stock Data for CAPM\\Stocks\\K线导出_601899_日线数据.xlsx\n",
      "Reading the input file...\n",
      "\n",
      "The input file path is: \n",
      "d:\\Important Files\\Repositories\\Quantitative-Investment-Algorithms\\Data\\Stock Data for CAPM\\Stocks\\K线导出_603099_日线数据.xlsx\n",
      "Reading the input file...\n",
      "\n",
      "The input file path is: \n",
      "d:\\Important Files\\Repositories\\Quantitative-Investment-Algorithms\\Data\\Stock Data for CAPM\\Stocks\\K线导出_603300_日线数据.xlsx\n",
      "Reading the input file...\n",
      "\n",
      "The input file path is: \n",
      "d:\\Important Files\\Repositories\\Quantitative-Investment-Algorithms\\Data\\Stock Data for CAPM\\Stocks\\K线导出_688088_日线数据.xlsx\n",
      "Reading the input file...\n"
     ]
    }
   ],
   "source": [
    "dfs = {}\n",
    "for fname in os.listdir(data_dir):\n",
    "    full_path = os.path.join(data_dir, fname)\n",
    "    temp = gr.read_and_return_pd_df(full_path)\n",
    "    gr.change_head_to_ENG(temp)\n",
    "    gr.change_secu_code_to_str(temp)\n",
    "    key = temp.at[0, 'SECU_CODE']\n",
    "    dfs[key] = temp"
   ]
  },
  {
   "cell_type": "code",
   "execution_count": null,
   "id": "8dbd61e0",
   "metadata": {},
   "outputs": [],
   "source": []
  },
  {
   "cell_type": "code",
   "execution_count": null,
   "id": "26cc863d",
   "metadata": {},
   "outputs": [],
   "source": [
    "\n",
    "data_dir = os.path.join(cdr, 'Data', 'Stock Data for CAPM', 'DATA TEST')\n",
    "\n",
    "# Dict to hold your DataFrames\n",
    "dfs = {}\n",
    "\n",
    "for fname in os.listdir(data_dir):\n",
    "    full_path = os.path.join(data_dir, fname)\n",
    "    if not os.path.isfile(full_path):\n",
    "        continue\n",
    "    temp = gr.read_and_return_pd_df(full_path)\n",
    "    \n",
    "    key = temp['ID']\n",
    "\n",
    "    # Read into the dict\n",
    "    dfs[key] = gr.read_and_return_pd_df(full_path)\n",
    "\n",
    "    # Special handling for 'R_f' files\n",
    "    if fname.startswith('R_f'):\n",
    "        print(f\"R_f file found: {fname}\")\n",
    "\n",
    "# Example access:\n",
    "#   dfs['R_f_something']  # dataframe for R_f_something.csv\n"
   ]
  }
 ],
 "metadata": {
  "kernelspec": {
   "display_name": ".venv",
   "language": "python",
   "name": "python3"
  },
  "language_info": {
   "codemirror_mode": {
    "name": "ipython",
    "version": 3
   },
   "file_extension": ".py",
   "mimetype": "text/x-python",
   "name": "python",
   "nbconvert_exporter": "python",
   "pygments_lexer": "ipython3",
   "version": "3.11.8"
  }
 },
 "nbformat": 4,
 "nbformat_minor": 5
}
