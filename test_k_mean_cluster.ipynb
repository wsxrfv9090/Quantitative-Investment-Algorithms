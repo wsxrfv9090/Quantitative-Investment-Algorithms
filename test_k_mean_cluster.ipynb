{
 "cells": [
  {
   "cell_type": "code",
   "execution_count": 540,
   "id": "1ee8cbd1",
   "metadata": {},
   "outputs": [],
   "source": [
    "import torch\n",
    "import os\n",
    "import numpy as np\n",
    "import global_resources as gr\n",
    "import random\n",
    "import matplotlib.pyplot as plt\n"
   ]
  },
  {
   "cell_type": "markdown",
   "id": "e7a219e0",
   "metadata": {},
   "source": [
    "# import data"
   ]
  },
  {
   "cell_type": "code",
   "execution_count": 541,
   "id": "b1f19b7f",
   "metadata": {},
   "outputs": [
    {
     "name": "stdout",
     "output_type": "stream",
     "text": [
      "\n",
      "The input file path is: \n",
      "d:\\Important Files\\Repositories\\Quantitative-Investment-Algorithms\\Data\\breast-cancer-wisconsin.data\n",
      "Reading the input file...\n"
     ]
    },
    {
     "data": {
      "application/vnd.microsoft.datawrangler.viewer.v0+json": {
       "columns": [
        {
         "name": "index",
         "rawType": "int64",
         "type": "integer"
        },
        {
         "name": "id",
         "rawType": "int64",
         "type": "integer"
        },
        {
         "name": "clump_thickness",
         "rawType": "int64",
         "type": "integer"
        },
        {
         "name": "unif_cell_size",
         "rawType": "int64",
         "type": "integer"
        },
        {
         "name": "unif_cell_shape",
         "rawType": "int64",
         "type": "integer"
        },
        {
         "name": "marg_adhesion",
         "rawType": "int64",
         "type": "integer"
        },
        {
         "name": "single_spith_cell_size",
         "rawType": "int64",
         "type": "integer"
        },
        {
         "name": "bare_nuclei",
         "rawType": "object",
         "type": "string"
        },
        {
         "name": "bland_chrom",
         "rawType": "int64",
         "type": "integer"
        },
        {
         "name": "norm_nucleoli",
         "rawType": "int64",
         "type": "integer"
        },
        {
         "name": "mitoses",
         "rawType": "int64",
         "type": "integer"
        },
        {
         "name": "class",
         "rawType": "int64",
         "type": "integer"
        }
       ],
       "conversionMethod": "pd.DataFrame",
       "ref": "5bb1d60d-8e1d-4525-bffa-28513dfe6e84",
       "rows": [
        [
         "0",
         "1000025",
         "5",
         "1",
         "1",
         "1",
         "2",
         "1",
         "3",
         "1",
         "1",
         "2"
        ],
        [
         "1",
         "1002945",
         "5",
         "4",
         "4",
         "5",
         "7",
         "10",
         "3",
         "2",
         "1",
         "2"
        ],
        [
         "2",
         "1015425",
         "3",
         "1",
         "1",
         "1",
         "2",
         "2",
         "3",
         "1",
         "1",
         "2"
        ],
        [
         "3",
         "1016277",
         "6",
         "8",
         "8",
         "1",
         "3",
         "4",
         "3",
         "7",
         "1",
         "2"
        ],
        [
         "4",
         "1017023",
         "4",
         "1",
         "1",
         "3",
         "2",
         "1",
         "3",
         "1",
         "1",
         "2"
        ]
       ],
       "shape": {
        "columns": 11,
        "rows": 5
       }
      },
      "text/html": [
       "<div>\n",
       "<style scoped>\n",
       "    .dataframe tbody tr th:only-of-type {\n",
       "        vertical-align: middle;\n",
       "    }\n",
       "\n",
       "    .dataframe tbody tr th {\n",
       "        vertical-align: top;\n",
       "    }\n",
       "\n",
       "    .dataframe thead th {\n",
       "        text-align: right;\n",
       "    }\n",
       "</style>\n",
       "<table border=\"1\" class=\"dataframe\">\n",
       "  <thead>\n",
       "    <tr style=\"text-align: right;\">\n",
       "      <th></th>\n",
       "      <th>id</th>\n",
       "      <th>clump_thickness</th>\n",
       "      <th>unif_cell_size</th>\n",
       "      <th>unif_cell_shape</th>\n",
       "      <th>marg_adhesion</th>\n",
       "      <th>single_spith_cell_size</th>\n",
       "      <th>bare_nuclei</th>\n",
       "      <th>bland_chrom</th>\n",
       "      <th>norm_nucleoli</th>\n",
       "      <th>mitoses</th>\n",
       "      <th>class</th>\n",
       "    </tr>\n",
       "  </thead>\n",
       "  <tbody>\n",
       "    <tr>\n",
       "      <th>0</th>\n",
       "      <td>1000025</td>\n",
       "      <td>5</td>\n",
       "      <td>1</td>\n",
       "      <td>1</td>\n",
       "      <td>1</td>\n",
       "      <td>2</td>\n",
       "      <td>1</td>\n",
       "      <td>3</td>\n",
       "      <td>1</td>\n",
       "      <td>1</td>\n",
       "      <td>2</td>\n",
       "    </tr>\n",
       "    <tr>\n",
       "      <th>1</th>\n",
       "      <td>1002945</td>\n",
       "      <td>5</td>\n",
       "      <td>4</td>\n",
       "      <td>4</td>\n",
       "      <td>5</td>\n",
       "      <td>7</td>\n",
       "      <td>10</td>\n",
       "      <td>3</td>\n",
       "      <td>2</td>\n",
       "      <td>1</td>\n",
       "      <td>2</td>\n",
       "    </tr>\n",
       "    <tr>\n",
       "      <th>2</th>\n",
       "      <td>1015425</td>\n",
       "      <td>3</td>\n",
       "      <td>1</td>\n",
       "      <td>1</td>\n",
       "      <td>1</td>\n",
       "      <td>2</td>\n",
       "      <td>2</td>\n",
       "      <td>3</td>\n",
       "      <td>1</td>\n",
       "      <td>1</td>\n",
       "      <td>2</td>\n",
       "    </tr>\n",
       "    <tr>\n",
       "      <th>3</th>\n",
       "      <td>1016277</td>\n",
       "      <td>6</td>\n",
       "      <td>8</td>\n",
       "      <td>8</td>\n",
       "      <td>1</td>\n",
       "      <td>3</td>\n",
       "      <td>4</td>\n",
       "      <td>3</td>\n",
       "      <td>7</td>\n",
       "      <td>1</td>\n",
       "      <td>2</td>\n",
       "    </tr>\n",
       "    <tr>\n",
       "      <th>4</th>\n",
       "      <td>1017023</td>\n",
       "      <td>4</td>\n",
       "      <td>1</td>\n",
       "      <td>1</td>\n",
       "      <td>3</td>\n",
       "      <td>2</td>\n",
       "      <td>1</td>\n",
       "      <td>3</td>\n",
       "      <td>1</td>\n",
       "      <td>1</td>\n",
       "      <td>2</td>\n",
       "    </tr>\n",
       "  </tbody>\n",
       "</table>\n",
       "</div>"
      ],
      "text/plain": [
       "        id  clump_thickness  unif_cell_size  unif_cell_shape  marg_adhesion  \\\n",
       "0  1000025                5               1                1              1   \n",
       "1  1002945                5               4                4              5   \n",
       "2  1015425                3               1                1              1   \n",
       "3  1016277                6               8                8              1   \n",
       "4  1017023                4               1                1              3   \n",
       "\n",
       "   single_spith_cell_size bare_nuclei  bland_chrom  norm_nucleoli  mitoses  \\\n",
       "0                       2           1            3              1        1   \n",
       "1                       7          10            3              2        1   \n",
       "2                       2           2            3              1        1   \n",
       "3                       3           4            3              7        1   \n",
       "4                       2           1            3              1        1   \n",
       "\n",
       "   class  \n",
       "0      2  \n",
       "1      2  \n",
       "2      2  \n",
       "3      2  \n",
       "4      2  "
      ]
     },
     "metadata": {},
     "output_type": "display_data"
    }
   ],
   "source": [
    "data_path = os.path.join(gr.default_dir, r'Data\\breast-cancer-wisconsin.data')\n",
    "df = gr.read_and_return_pd_df(data_path)\n",
    "display(df.head())"
   ]
  },
  {
   "cell_type": "markdown",
   "id": "1ef0977f",
   "metadata": {},
   "source": []
  },
  {
   "cell_type": "code",
   "execution_count": 542,
   "id": "641ca384",
   "metadata": {},
   "outputs": [
    {
     "name": "stdout",
     "output_type": "stream",
     "text": [
      "<class 'pandas.core.frame.DataFrame'>\n",
      "RangeIndex: 699 entries, 0 to 698\n",
      "Data columns (total 11 columns):\n",
      " #   Column                  Non-Null Count  Dtype \n",
      "---  ------                  --------------  ----- \n",
      " 0   id                      699 non-null    int64 \n",
      " 1   clump_thickness         699 non-null    int64 \n",
      " 2   unif_cell_size          699 non-null    int64 \n",
      " 3   unif_cell_shape         699 non-null    int64 \n",
      " 4   marg_adhesion           699 non-null    int64 \n",
      " 5   single_spith_cell_size  699 non-null    int64 \n",
      " 6   bare_nuclei             699 non-null    object\n",
      " 7   bland_chrom             699 non-null    int64 \n",
      " 8   norm_nucleoli           699 non-null    int64 \n",
      " 9   mitoses                 699 non-null    int64 \n",
      " 10  class                   699 non-null    int64 \n",
      "dtypes: int64(10), object(1)\n",
      "memory usage: 60.2+ KB\n"
     ]
    }
   ],
   "source": [
    "df.info()\n"
   ]
  },
  {
   "cell_type": "code",
   "execution_count": 543,
   "id": "608536ff",
   "metadata": {},
   "outputs": [
    {
     "name": "stdout",
     "output_type": "stream",
     "text": [
      "<class 'pandas.core.frame.DataFrame'>\n",
      "Index: 683 entries, 0 to 698\n",
      "Data columns (total 10 columns):\n",
      " #   Column                  Non-Null Count  Dtype\n",
      "---  ------                  --------------  -----\n",
      " 0   clump_thickness         683 non-null    int64\n",
      " 1   unif_cell_size          683 non-null    int64\n",
      " 2   unif_cell_shape         683 non-null    int64\n",
      " 3   marg_adhesion           683 non-null    int64\n",
      " 4   single_spith_cell_size  683 non-null    int64\n",
      " 5   bare_nuclei             683 non-null    int64\n",
      " 6   bland_chrom             683 non-null    int64\n",
      " 7   norm_nucleoli           683 non-null    int64\n",
      " 8   mitoses                 683 non-null    int64\n",
      " 9   class                   683 non-null    int64\n",
      "dtypes: int64(10)\n",
      "memory usage: 58.7 KB\n"
     ]
    }
   ],
   "source": [
    "df.replace('?', np.nan, inplace = True)\n",
    "df.dropna(inplace = True)\n",
    "# df.replace('?', -99999, inplace = True)\n",
    "df.drop(['id'], axis = 1, inplace = True)\n",
    "df[\"bare_nuclei\"] = df[\"bare_nuclei\"].astype(np.int64)\n",
    "df.info()"
   ]
  },
  {
   "cell_type": "markdown",
   "id": "0055c691",
   "metadata": {},
   "source": [
    "# Implement K means cluster"
   ]
  },
  {
   "cell_type": "code",
   "execution_count": 544,
   "id": "5757b776",
   "metadata": {},
   "outputs": [
    {
     "name": "stdout",
     "output_type": "stream",
     "text": [
      "Current device: Cuda.\n"
     ]
    }
   ],
   "source": [
    "device = \"cuda\" if torch.cuda.is_available() else \"cpu\"\n",
    "print(f\"Current device: {device.capitalize()}.\")"
   ]
  },
  {
   "cell_type": "markdown",
   "id": "063986fb",
   "metadata": {},
   "source": [
    "Preprocess"
   ]
  },
  {
   "cell_type": "code",
   "execution_count": 545,
   "id": "dbc4ba65",
   "metadata": {},
   "outputs": [],
   "source": [
    "X = np.array(df.drop(['class'], axis = 1)).astype('float64')\n",
    "y = np.array(df['class']).astype('float64')\n",
    "# Change label from 2, 4 to -1, 1, with 1 meaning that the label is malignant, -1 meaning that the label is benign.\n",
    "y = np.where(y == 4, 1, np.where(y == 2, -1, y))"
   ]
  },
  {
   "cell_type": "code",
   "execution_count": 546,
   "id": "6643b3a2",
   "metadata": {},
   "outputs": [
    {
     "name": "stdout",
     "output_type": "stream",
     "text": [
      "torch.Size([683, 9])\n",
      "torch.Size([683])\n"
     ]
    }
   ],
   "source": [
    "X_gpu = torch.tensor(X, device = device)\n",
    "y_gpu = torch.tensor(y, device = device)\n",
    "print(X_gpu.shape)\n",
    "print(y_gpu.shape)"
   ]
  },
  {
   "cell_type": "markdown",
   "id": "398a3ddc",
   "metadata": {},
   "source": [
    "# K means unsupervised"
   ]
  },
  {
   "cell_type": "markdown",
   "id": "ab100bcd",
   "metadata": {},
   "source": [
    "## Create centroids & Assign points to its closet centroids"
   ]
  },
  {
   "cell_type": "code",
   "execution_count": 547,
   "id": "0709deb9",
   "metadata": {},
   "outputs": [],
   "source": [
    "RANDOM_SEED = random.randint(0, 2**32 - 1)\n",
    "MAX_ITERATION = int(1e3)\n",
    "TOLERANCE = 1e-6\n",
    "N_RESTARTS = int(10)\n",
    "def initiate_centroids(X = X_gpu, k = 3, random_seed = RANDOM_SEED):\n",
    "    N = X.size(0)\n",
    "    # GPU ways of doing it, but it randomly permute all data before sampling, and isn't the best practice:\n",
    "    # generator = torch.Generator(device=X_gpu.device).manual_seed(RANDOM_SEED)\n",
    "    # idx = torch.randperm(X_gpu.size(0), generator = generator, device = X_gpu.device)[:k]\n",
    "    random.seed(random_seed)\n",
    "    # draw k unique ints in [0..N-1]\n",
    "    idx_cpu = random.sample(range(N), k)    \n",
    "    # convert & move to GPU\n",
    "    idx = torch.tensor(idx_cpu, device=X_gpu.device)\n",
    "    centroids = X[idx]\n",
    "    return centroids\n",
    "\n",
    "# Usage for init_centroids\n",
    "# Centroids = init_centroids(X_gpu)"
   ]
  },
  {
   "cell_type": "code",
   "execution_count": 548,
   "id": "88e51a2c",
   "metadata": {},
   "outputs": [],
   "source": [
    "# Set centroids example and explanation\n",
    "\n",
    "# # Compute all N×k pairwise distances:\n",
    "# # distances[i,j] = ||X_gpu[i] - centroids[j]||_2\n",
    "# # Or you can use torch.norm, but I was told that torch.norm doesn't have a good precision as torch.cdist\n",
    "# distances = torch.cdist(X_gpu, centroids)\n",
    "\n",
    "# # Returns the index of the smallest within each first dimension\n",
    "# labels = distances.argmin(dim = 1)    # shape: (N,)\n"
   ]
  },
  {
   "cell_type": "markdown",
   "id": "b5c98718",
   "metadata": {},
   "source": [
    "## Re‑compute centroids as the mean of their assigned points"
   ]
  },
  {
   "cell_type": "code",
   "execution_count": 549,
   "id": "c5fd22ca",
   "metadata": {},
   "outputs": [],
   "source": [
    "def optimize_centroids(X = X_gpu, centroids = None, max_iters = MAX_ITERATION, tol = TOLERANCE):\n",
    "    labels = 0\n",
    "    global RANDOM_SEED\n",
    "    if centroids == None:\n",
    "        centroids = initiate_centroids(X)\n",
    "    for it in range(max_iters):\n",
    "        labels = torch.cdist(X_gpu, centroids).argmin(dim = 1)\n",
    "        new_centroids = torch.zeros_like(centroids)\n",
    "        \n",
    "        for j in range(centroids.size(0)):\n",
    "            members = X_gpu[labels == j]\n",
    "            if members.numel() == 0:\n",
    "                RANDOM_SEED += 1\n",
    "                centroids = initiate_centroids(X, k=centroids.size(0), random_seed = RANDOM_SEED)\n",
    "            else:\n",
    "                new_centroids[j] = members.mean(dim = 0)\n",
    "\n",
    "        # If the new_centroids and old centroids are not more different than tol, it will break the loop\n",
    "        if torch.allclose(new_centroids, centroids, atol = tol):\n",
    "            # print(f\"Converged at iter {it}\")\n",
    "            labels = torch.cdist(X_gpu, new_centroids).argmin(dim = 1)\n",
    "            break\n",
    "        if it == max_iters:\n",
    "            print(f\"Hit max_iters in optimize_centroids function!!!!\")\n",
    "        centroids = new_centroids\n",
    "        \n",
    "    return new_centroids, labels\n",
    "\n",
    "# Usage for optimize_centroids\n",
    "# Centroids, Labels = optimize_centroids(Centroids)"
   ]
  },
  {
   "cell_type": "markdown",
   "id": "75773b3f",
   "metadata": {},
   "source": [
    "## Set up a function that calculates the total variation based on the centroids and X"
   ]
  },
  {
   "cell_type": "code",
   "execution_count": 550,
   "id": "d33518b3",
   "metadata": {},
   "outputs": [],
   "source": [
    "def calculate_variation(X = X_gpu, centroids = None, labels = None):\n",
    "    variation = 0.0\n",
    "    if centroids == None or labels == None:\n",
    "        centroids, labels = optimize_centroids(X)\n",
    "    for j in range(centroids.size(0)):\n",
    "        members = X_gpu[labels == j]\n",
    "        diffs = members - centroids[j].unsqueeze(0)\n",
    "        variation += torch.sum(diffs * diffs).item()\n",
    "    return variation\n",
    "\n",
    "# variation = calculate_variation() "
   ]
  },
  {
   "cell_type": "code",
   "execution_count": 551,
   "id": "67d6691f",
   "metadata": {},
   "outputs": [],
   "source": [
    "# Within cluster sum of squares\n",
    "def WCSS_for_single_k(X = X_gpu, k = 3, n_restarts = N_RESTARTS, tol = TOLERANCE, max_iters = MAX_ITERATION):\n",
    "    global RANDOM_SEED\n",
    "    best_variation = float('inf')\n",
    "    best_centroids = None\n",
    "    best_labels = None\n",
    "\n",
    "    for _ in range(n_restarts):\n",
    "        RANDOM_SEED += 1\n",
    "        Centroids = initiate_centroids(X, k, random_seed = RANDOM_SEED)\n",
    "        \n",
    "        Centroids, Labels = optimize_centroids(\n",
    "            X = X,\n",
    "            centroids = Centroids,\n",
    "            max_iters = max_iters,\n",
    "            tol = tol\n",
    "        )\n",
    "\n",
    "        var = calculate_variation(X, Centroids, Labels)\n",
    "\n",
    "        # keep best\n",
    "        if var < best_variation:\n",
    "            best_variation = var\n",
    "            best_centroids = Centroids.clone()\n",
    "            best_labels = Labels.clone()\n",
    "\n",
    "    return best_centroids, best_labels, best_variation\n"
   ]
  },
  {
   "cell_type": "code",
   "execution_count": 552,
   "id": "8fb46a8b",
   "metadata": {},
   "outputs": [],
   "source": [
    "# best_C, best_L, best_var = WCSS_for_single_k(n_restarts = 100)\n",
    "# print(f\"Lowest variation={best_var:.4f}\")\n",
    "# print(\"Best centroids:\\n\", best_C)"
   ]
  },
  {
   "cell_type": "code",
   "execution_count": null,
   "id": "6eb0473a",
   "metadata": {},
   "outputs": [],
   "source": [
    "def elbow_plot(X = X_gpu, k = 10):\n",
    "    ks = list(range(1, k + 1))\n",
    "    variations = []\n",
    "\n",
    "    for k in ks:\n",
    "        _, _, var = WCSS_for_single_k(X, k)\n",
    "        variations.append(var)\n",
    "    \n",
    "    if not variations:\n",
    "        print(\"No valid results to plot.\")\n",
    "        return\n",
    "    \n",
    "    plt.figure(figsize=(8, 5))\n",
    "    plt.scatter(ks[:len(variations)], variations, marker='o')\n",
    "    plt.plot(ks[:len(variations)], variations, linestyle='-', alpha=0.7)\n",
    "    plt.xticks(ks)\n",
    "    plt.xlabel(\"Number of clusters (k)\")\n",
    "    plt.ylabel(\"Within-cluster variation\")\n",
    "    plt.title(\"Elbow Method for Optimal k\")\n",
    "    plt.grid(True, linestyle=\"--\", alpha=0.5)\n",
    "    plt.show()\n",
    "    return variations"
   ]
  },
  {
   "cell_type": "code",
   "execution_count": 555,
   "id": "692e0a95",
   "metadata": {},
   "outputs": [
    {
     "data": {
      "image/png": "[encoded data removed]",
      "text/plain": [
       "<Figure size 800x500 with 1 Axes>"
      ]
     },
     "metadata": {},
     "output_type": "display_data"
    }
   ],
   "source": [
    "variations = elbow_plot(X = X_gpu, k = 10)"
   ]
  }
 ],
 "metadata": {
  "kernelspec": {
   "display_name": ".venv",
   "language": "python",
   "name": "python3"
  },
  "language_info": {
   "codemirror_mode": {
    "name": "ipython",
    "version": 3
   },
   "file_extension": ".py",
   "mimetype": "text/x-python",
   "name": "python",
   "nbconvert_exporter": "python",
   "pygments_lexer": "ipython3",
   "version": "3.11.8"
  }
 },
 "nbformat": 4,
 "nbformat_minor": 5
}
