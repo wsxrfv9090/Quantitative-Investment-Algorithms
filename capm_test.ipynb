{
 "cells": [
  {
   "cell_type": "code",
   "execution_count": 1,
   "id": "143e3afc",
   "metadata": {},
   "outputs": [
    {
     "name": "stdout",
     "output_type": "stream",
     "text": [
      "'CAPM' directory is ready at: D:\\ImportanFiles\\Coding Related\\Repositories\\Quantitative-Investment-Algorithms\\CAPMlib\n",
      "'K means cluster' directory is ready at: D:\\ImportanFiles\\Coding Related\\Repositories\\Quantitative-Investment-Algorithms\\kmc_torch\n",
      "'Data' directory is ready at: D:\\ImportanFiles\\Coding Related\\Repositories\\Quantitative-Investment-Algorithms\\Data\n",
      "'SVM' directory is ready at: D:\\ImportanFiles\\Coding Related\\Repositories\\Quantitative-Investment-Algorithms\\SVM\n",
      "'Output' directory is ready at: D:\\ImportanFiles\\Coding Related\\Repositories\\Quantitative-Investment-Algorithms\\Output\n",
      "Reading files from: 'D:\\ImportanFiles\\Coding Related\\Repositories\\Quantitative-Investment-Algorithms\\Data\\market_index.csv'\n",
      "2024-01-02\n",
      "2025-01-02\n",
      "Reading files from: 'D:\\ImportanFiles\\Coding Related\\Repositories\\Quantitative-Investment-Algorithms\\Data\\TEST Stock Data for CAPM\\Stocks\\000001_daily_hfq.csv'\n",
      "Reading files from: 'D:\\ImportanFiles\\Coding Related\\Repositories\\Quantitative-Investment-Algorithms\\Data\\TEST Stock Data for CAPM\\Stocks\\000040_daily_hfq.csv'\n",
      "Reading files from: 'D:\\ImportanFiles\\Coding Related\\Repositories\\Quantitative-Investment-Algorithms\\Data\\TEST Stock Data for CAPM\\Stocks\\000048_daily_hfq.csv'\n",
      "Reading files from: 'D:\\ImportanFiles\\Coding Related\\Repositories\\Quantitative-Investment-Algorithms\\Data\\TEST Stock Data for CAPM\\Stocks\\300678_daily_hfq.csv'\n",
      "Reading files from: 'D:\\ImportanFiles\\Coding Related\\Repositories\\Quantitative-Investment-Algorithms\\Data\\TEST Stock Data for CAPM\\Stocks\\300679_daily_hfq.csv'\n",
      "Reading files from: 'D:\\ImportanFiles\\Coding Related\\Repositories\\Quantitative-Investment-Algorithms\\Data\\TEST Stock Data for CAPM\\Stocks\\300680_daily_hfq.csv'\n",
      "Reading files from: 'D:\\ImportanFiles\\Coding Related\\Repositories\\Quantitative-Investment-Algorithms\\Data\\TEST Stock Data for CAPM\\Stocks\\300681_daily_hfq.csv'\n",
      "Reading files from: 'D:\\ImportanFiles\\Coding Related\\Repositories\\Quantitative-Investment-Algorithms\\Data\\TEST Stock Data for CAPM\\Stocks\\300682_daily_hfq.csv'\n",
      "Reading files from: 'D:\\ImportanFiles\\Coding Related\\Repositories\\Quantitative-Investment-Algorithms\\Data\\TEST Stock Data for CAPM\\Stocks\\300683_daily_hfq.csv'\n",
      "Reading files from: 'D:\\ImportanFiles\\Coding Related\\Repositories\\Quantitative-Investment-Algorithms\\Data\\TEST Stock Data for CAPM\\Stocks\\300684_daily_hfq.csv'\n",
      "Reading files from: 'D:\\ImportanFiles\\Coding Related\\Repositories\\Quantitative-Investment-Algorithms\\Data\\TEST Stock Data for CAPM\\Stocks\\300685_daily_hfq.csv'\n",
      "Reading files from: 'D:\\ImportanFiles\\Coding Related\\Repositories\\Quantitative-Investment-Algorithms\\Data\\TEST Stock Data for CAPM\\Stocks\\300686_daily_hfq.csv'\n",
      "Reading files from: 'D:\\ImportanFiles\\Coding Related\\Repositories\\Quantitative-Investment-Algorithms\\Data\\TEST Stock Data for CAPM\\Stocks\\300687_daily_hfq.csv'\n",
      "Reading files from: 'D:\\ImportanFiles\\Coding Related\\Repositories\\Quantitative-Investment-Algorithms\\Data\\TEST Stock Data for CAPM\\Stocks\\300688_daily_hfq.csv'\n",
      "Reading files from: 'D:\\ImportanFiles\\Coding Related\\Repositories\\Quantitative-Investment-Algorithms\\Data\\TEST Stock Data for CAPM\\Stocks\\300689_daily_hfq.csv'\n",
      "Reading files from: 'D:\\ImportanFiles\\Coding Related\\Repositories\\Quantitative-Investment-Algorithms\\Data\\TEST Stock Data for CAPM\\Stocks\\300690_daily_hfq.csv'\n",
      "Reading files from: 'D:\\ImportanFiles\\Coding Related\\Repositories\\Quantitative-Investment-Algorithms\\Data\\TEST Stock Data for CAPM\\Stocks\\300691_daily_hfq.csv'\n",
      "Reading files from: 'D:\\ImportanFiles\\Coding Related\\Repositories\\Quantitative-Investment-Algorithms\\Data\\TEST Stock Data for CAPM\\Stocks\\300692_daily_hfq.csv'\n",
      "Reading files from: 'D:\\ImportanFiles\\Coding Related\\Repositories\\Quantitative-Investment-Algorithms\\Data\\TEST Stock Data for CAPM\\Stocks\\300693_daily_hfq.csv'\n",
      "Reading files from: 'D:\\ImportanFiles\\Coding Related\\Repositories\\Quantitative-Investment-Algorithms\\Data\\TEST Stock Data for CAPM\\Stocks\\300694_daily_hfq.csv'\n",
      "Reading files from: 'D:\\ImportanFiles\\Coding Related\\Repositories\\Quantitative-Investment-Algorithms\\Data\\TEST Stock Data for CAPM\\Stocks\\300695_daily_hfq.csv'\n",
      "Reading files from: 'D:\\ImportanFiles\\Coding Related\\Repositories\\Quantitative-Investment-Algorithms\\Data\\TEST Stock Data for CAPM\\Stocks\\300696_daily_hfq.csv'\n",
      "Reading files from: 'D:\\ImportanFiles\\Coding Related\\Repositories\\Quantitative-Investment-Algorithms\\Data\\TEST Stock Data for CAPM\\Stocks\\300697_daily_hfq.csv'\n",
      "Reading files from: 'D:\\ImportanFiles\\Coding Related\\Repositories\\Quantitative-Investment-Algorithms\\Data\\TEST Stock Data for CAPM\\Stocks\\300698_daily_hfq.csv'\n",
      "Reading files from: 'D:\\ImportanFiles\\Coding Related\\Repositories\\Quantitative-Investment-Algorithms\\Data\\TEST Stock Data for CAPM\\Stocks\\300699_daily_hfq.csv'\n",
      "Reading files from: 'D:\\ImportanFiles\\Coding Related\\Repositories\\Quantitative-Investment-Algorithms\\Data\\TEST Stock Data for CAPM\\Stocks\\300700_daily_hfq.csv'\n",
      "Reading files from: 'D:\\ImportanFiles\\Coding Related\\Repositories\\Quantitative-Investment-Algorithms\\Data\\TEST Stock Data for CAPM\\Stocks\\300701_daily_hfq.csv'\n",
      "Reading files from: 'D:\\ImportanFiles\\Coding Related\\Repositories\\Quantitative-Investment-Algorithms\\Data\\TEST Stock Data for CAPM\\Stocks\\300702_daily_hfq.csv'\n",
      "Reading files from: 'D:\\ImportanFiles\\Coding Related\\Repositories\\Quantitative-Investment-Algorithms\\Data\\TEST Stock Data for CAPM\\Stocks\\300703_daily_hfq.csv'\n",
      "Reading files from: 'D:\\ImportanFiles\\Coding Related\\Repositories\\Quantitative-Investment-Algorithms\\Data\\TEST Stock Data for CAPM\\Stocks\\300705_daily_hfq.csv'\n",
      "Reading files from: 'D:\\ImportanFiles\\Coding Related\\Repositories\\Quantitative-Investment-Algorithms\\Data\\TEST Stock Data for CAPM\\Stocks\\300706_daily_hfq.csv'\n",
      "Reading files from: 'D:\\ImportanFiles\\Coding Related\\Repositories\\Quantitative-Investment-Algorithms\\Data\\TEST Stock Data for CAPM\\Stocks\\300707_daily_hfq.csv'\n",
      "Reading files from: 'D:\\ImportanFiles\\Coding Related\\Repositories\\Quantitative-Investment-Algorithms\\Data\\TEST Stock Data for CAPM\\Stocks\\300708_daily_hfq.csv'\n",
      "Reading files from: 'D:\\ImportanFiles\\Coding Related\\Repositories\\Quantitative-Investment-Algorithms\\Data\\TEST Stock Data for CAPM\\Stocks\\300709_daily_hfq.csv'\n",
      "Reading files from: 'D:\\ImportanFiles\\Coding Related\\Repositories\\Quantitative-Investment-Algorithms\\Data\\TEST Stock Data for CAPM\\Stocks\\300710_daily_hfq.csv'\n",
      "Reading files from: 'D:\\ImportanFiles\\Coding Related\\Repositories\\Quantitative-Investment-Algorithms\\Data\\TEST Stock Data for CAPM\\Stocks\\300711_daily_hfq.csv'\n",
      "Reading files from: 'D:\\ImportanFiles\\Coding Related\\Repositories\\Quantitative-Investment-Algorithms\\Data\\TEST Stock Data for CAPM\\Stocks\\300712_daily_hfq.csv'\n",
      "Reading files from: 'D:\\ImportanFiles\\Coding Related\\Repositories\\Quantitative-Investment-Algorithms\\Data\\TEST Stock Data for CAPM\\Stocks\\300713_daily_hfq.csv'\n",
      "Reading files from: 'D:\\ImportanFiles\\Coding Related\\Repositories\\Quantitative-Investment-Algorithms\\Data\\TEST Stock Data for CAPM\\Stocks\\300715_daily_hfq.csv'\n",
      "Reading files from: 'D:\\ImportanFiles\\Coding Related\\Repositories\\Quantitative-Investment-Algorithms\\Data\\TEST Stock Data for CAPM\\Stocks\\300716_daily_hfq.csv'\n",
      "Reading files from: 'D:\\ImportanFiles\\Coding Related\\Repositories\\Quantitative-Investment-Algorithms\\Data\\TEST Stock Data for CAPM\\Stocks\\300717_daily_hfq.csv'\n",
      "Reading files from: 'D:\\ImportanFiles\\Coding Related\\Repositories\\Quantitative-Investment-Algorithms\\Data\\TEST Stock Data for CAPM\\Stocks\\300718_daily_hfq.csv'\n",
      "Reading files from: 'D:\\ImportanFiles\\Coding Related\\Repositories\\Quantitative-Investment-Algorithms\\Data\\TEST Stock Data for CAPM\\Stocks\\300719_daily_hfq.csv'\n",
      "Reading files from: 'D:\\ImportanFiles\\Coding Related\\Repositories\\Quantitative-Investment-Algorithms\\Data\\TEST Stock Data for CAPM\\Stocks\\300720_daily_hfq.csv'\n",
      "Reading complete, total skip count in 44, skipped 1 files. \n"
     ]
    }
   ],
   "source": [
    "import global_resources as gr\n",
    "import CAPMlib.CAPM as capm\n",
    "import os\n",
    "import pandas as pd"
   ]
  },
  {
   "cell_type": "code",
   "execution_count": 2,
   "id": "1fb8998e",
   "metadata": {},
   "outputs": [
    {
     "name": "stdout",
     "output_type": "stream",
     "text": [
      "Reading files from: 'D:\\ImportanFiles\\Coding Related\\Repositories\\Quantitative-Investment-Algorithms\\Output\\k=10_processed_data.csv'\n"
     ]
    }
   ],
   "source": [
    "labels = gr.read_and_return_pd_df(os.path.join(gr.global_paths['Output'], 'k=10_processed_data.csv'))\n",
    "labels['ID'] = labels['ID'].astype(str).str.zfill(6)"
   ]
  },
  {
   "cell_type": "code",
   "execution_count": 24,
   "id": "3d01d973",
   "metadata": {},
   "outputs": [
    {
     "data": {
      "text/plain": [
       "array([0, 1, 7, 4, 2, 6, 3, 5, 8, 9])"
      ]
     },
     "metadata": {},
     "output_type": "display_data"
    }
   ],
   "source": [
    "display(labels['Labels'].unique())"
   ]
  },
  {
   "cell_type": "code",
   "execution_count": 3,
   "id": "95f4cd38",
   "metadata": {},
   "outputs": [],
   "source": [
    "dfs = capm.assign_labels_to_dfs(labels)"
   ]
  },
  {
   "cell_type": "code",
   "execution_count": 21,
   "id": "17b9ec00",
   "metadata": {},
   "outputs": [],
   "source": [
    "grouped = {}\n",
    "for key, (lbl, df) in dfs.items():\n",
    "    grouped.setdefault(lbl, {})[key] = df"
   ]
  }
 ],
 "metadata": {
  "kernelspec": {
   "display_name": ".venv",
   "language": "python",
   "name": "python3"
  },
  "language_info": {
   "codemirror_mode": {
    "name": "ipython",
    "version": 3
   },
   "file_extension": ".py",
   "mimetype": "text/x-python",
   "name": "python",
   "nbconvert_exporter": "python",
   "pygments_lexer": "ipython3",
   "version": "3.11.8"
  }
 },
 "nbformat": 4,
 "nbformat_minor": 5
}
