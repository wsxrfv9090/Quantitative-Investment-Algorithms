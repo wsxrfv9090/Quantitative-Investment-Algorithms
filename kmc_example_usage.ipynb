{
 "cells": [
  {
   "cell_type": "code",
   "execution_count": 1,
   "id": "cf206b2d",
   "metadata": {},
   "outputs": [],
   "source": [
    "import torch\n",
    "import os\n",
    "import numpy as np\n",
    "import global_resources as gr\n",
    "import random\n",
    "import matplotlib.pyplot as plt\n",
    "import kmc_torch.kmc as kmc"
   ]
  },
  {
   "cell_type": "code",
   "execution_count": 2,
   "id": "551f1080",
   "metadata": {},
   "outputs": [
    {
     "name": "stdout",
     "output_type": "stream",
     "text": [
      "Reading files from: D:\\Important Files\\Repositories\\Quantitative-Investment-Algorithms\\Data\\breast-cancer-wisconsin.data\n",
      "Current device: Cuda.\n"
     ]
    }
   ],
   "source": [
    "# Example Data process\n",
    "# Read data as pandas dataframe\n",
    "data_path = os.path.join(gr.default_dir, r'Data\\breast-cancer-wisconsin.data')\n",
    "df = gr.read_and_return_pd_df(data_path)\n",
    "\n",
    "# Process & drop Nan(not a number) values\n",
    "df.replace('?', np.nan, inplace = True)\n",
    "df.dropna(inplace = True)\n",
    "\n",
    "# Drop useless data column\n",
    "df.drop(['id'], axis = 1, inplace = True)\n",
    "df[\"bare_nuclei\"] = df[\"bare_nuclei\"].astype(np.int64)\n",
    "\n",
    "# Set device\n",
    "device = gr.set_device()\n",
    "print(f\"Current device: {device.capitalize()}.\")\n",
    "\n",
    "# Set X as datatype: np.array()\n",
    "X = np.array(df.drop(['class'], axis = 1)).astype('float32')\n",
    "# Set X_gpu as datatype: torch.tensor()\n",
    "X_gpu = torch.tensor(X, device = device, dtype = torch.float64)"
   ]
  },
  {
   "cell_type": "code",
   "execution_count": 3,
   "id": "33bb6bb5",
   "metadata": {},
   "outputs": [
    {
     "name": "stdout",
     "output_type": "stream",
     "text": [
      "2.7.0+cu128\n",
      "12.8\n"
     ]
    }
   ],
   "source": [
    "print(torch.__version__)\n",
    "print(torch.version.cuda)"
   ]
  },
  {
   "cell_type": "markdown",
   "id": "0af2364b",
   "metadata": {},
   "source": [
    "# initiate_centroids\n",
    "(\n",
    "    X: torch.Tensor, \n",
    "    k: int = 3, \n",
    "    random_seed: int = RANDOM_SEED\n",
    "    ) -> torch.Tensor:"
   ]
  },
  {
   "cell_type": "code",
   "execution_count": 4,
   "id": "f1c9e22d",
   "metadata": {},
   "outputs": [
    {
     "name": "stdout",
     "output_type": "stream",
     "text": [
      "Initiating centroids with k being 3...\n",
      "tensor([[ 5.,  5.,  5.,  6.,  3., 10.,  3.,  1.,  1.],\n",
      "        [ 7.,  5.,  6.,  3.,  3.,  8.,  7.,  4.,  1.],\n",
      "        [ 1.,  1.,  1.,  1.,  1.,  1.,  3.,  1.,  1.]], device='cuda:0',\n",
      "       dtype=torch.float64)\n"
     ]
    }
   ],
   "source": [
    "centroids = kmc.initiate_centroids(X_gpu, k = 3)\n",
    "print(centroids)"
   ]
  },
  {
   "cell_type": "markdown",
   "id": "9129c995",
   "metadata": {},
   "source": [
    "# optimize_centroids\n",
    "(\n",
    "    X: torch.Tensor, \n",
    "    k: int = 3, \n",
    "    centroids: torch.Tensor = None, \n",
    "    max_iters: int = MAX_ITERATION, \n",
    "    tol: float = TOLERANCE\n",
    "    ) -> tuple[torch.Tensor, torch.Tensor]:"
   ]
  },
  {
   "cell_type": "code",
   "execution_count": 5,
   "id": "9e004bb0",
   "metadata": {},
   "outputs": [
    {
     "name": "stdout",
     "output_type": "stream",
     "text": [
      "tensor([[7.1892, 4.8288, 5.1081, 4.6667, 4.1802, 8.5135, 5.0631, 3.9910, 1.6757],\n",
      "        [7.1532, 8.4274, 8.1129, 6.6371, 6.5484, 7.2339, 6.9274, 7.7258, 3.3387],\n",
      "        [3.0112, 1.2746, 1.3906, 1.3214, 2.0826, 1.2924, 2.0804, 1.2478, 1.1049]],\n",
      "       device='cuda:0', dtype=torch.float64)\n",
      "tensor([2, 0, 2, 0, 2, 1, 2, 2, 2, 2], device='cuda:0')\n",
      "tensor([2, 2, 1, 2, 2, 2, 2, 1, 1, 1], device='cuda:0')\n"
     ]
    }
   ],
   "source": [
    "oped_centroids, labels = kmc.optimize_centroids(X_gpu, centroids = centroids)\n",
    "print(oped_centroids)\n",
    "print(labels[:10])\n",
    "print(labels[-10:])"
   ]
  },
  {
   "cell_type": "markdown",
   "id": "63c57917",
   "metadata": {},
   "source": [
    "# calculate_variation\n",
    "(\n",
    "    X: torch.Tensor, \n",
    "    centroids: torch.Tensor = None, \n",
    "    labels: torch.Tensor = None\n",
    "    ) -> float:"
   ]
  },
  {
   "cell_type": "code",
   "execution_count": 6,
   "id": "450a6f9b",
   "metadata": {},
   "outputs": [
    {
     "name": "stdout",
     "output_type": "stream",
     "text": [
      "16267.235662001287\n"
     ]
    }
   ],
   "source": [
    "variation = kmc.calculate_variation(X_gpu, centroids = oped_centroids, labels = labels)\n",
    "print(variation)"
   ]
  },
  {
   "cell_type": "markdown",
   "id": "349ba303",
   "metadata": {},
   "source": [
    "# WCSS_for_single_k\n",
    "(\n",
    "    X: torch.Tensor, \n",
    "    k: int = 3, \n",
    "    n_restarts: int = N_RESTARTS, \n",
    "    tol: float = TOLERANCE, \n",
    "    max_iters: int = MAX_ITERATION,\n",
    "    ) -> torch.Tensor:"
   ]
  },
  {
   "cell_type": "code",
   "execution_count": 7,
   "id": "72964513",
   "metadata": {},
   "outputs": [
    {
     "name": "stdout",
     "output_type": "stream",
     "text": [
      "Clustering with: k = 3.\n",
      "Initiating centroids with k being 3...\n",
      "Initiating centroids with k being 3...\n",
      "Initiating centroids with k being 3...\n",
      "Initiating centroids with k being 3...\n",
      "Initiating centroids with k being 3...\n",
      "Initiating centroids with k being 3...\n",
      "Initiating centroids with k being 3...\n",
      "Initiating centroids with k being 3...\n",
      "Initiating centroids with k being 3...\n",
      "Initiating centroids with k being 3...\n",
      "tensor([[ 5.,  1.,  1.,  ...,  3.,  1.,  1.],\n",
      "        [ 5.,  4.,  4.,  ...,  3.,  2.,  1.],\n",
      "        [ 3.,  1.,  1.,  ...,  3.,  1.,  1.],\n",
      "        ...,\n",
      "        [ 5., 10., 10.,  ...,  8., 10.,  2.],\n",
      "        [ 4.,  8.,  6.,  ..., 10.,  6.,  1.],\n",
      "        [ 4.,  8.,  8.,  ..., 10.,  4.,  1.]], device='cuda:0',\n",
      "       dtype=torch.float64)\n",
      "tensor([2, 1, 2, 1, 2, 0, 2, 2, 2, 2], device='cuda:0')\n",
      "tensor([[7.0813, 8.4309, 8.1463, 6.7154, 6.5528, 7.2358, 6.9593, 7.6667, 3.3902],\n",
      "        [7.3136, 4.7627, 5.0169, 4.4576, 4.1695, 8.2119, 4.9746, 4.0424, 1.7373],\n",
      "        [2.9412, 1.2511, 1.3620, 1.3145, 2.0611, 1.2715, 2.0588, 1.2217, 1.0701]],\n",
      "       device='cuda:0', dtype=torch.float64)\n",
      "16255.916575165062\n",
      "torch.float64\n"
     ]
    }
   ],
   "source": [
    "X, labels, centroids, var = kmc.WCSS_for_single_k(X_gpu)\n",
    "print(X)\n",
    "print(labels[:10])\n",
    "print(centroids)\n",
    "print(var)\n",
    "print(X.dtype)"
   ]
  }
 ],
 "metadata": {
  "kernelspec": {
   "display_name": ".venv",
   "language": "python",
   "name": "python3"
  },
  "language_info": {
   "codemirror_mode": {
    "name": "ipython",
    "version": 3
   },
   "file_extension": ".py",
   "mimetype": "text/x-python",
   "name": "python",
   "nbconvert_exporter": "python",
   "pygments_lexer": "ipython3",
   "version": "3.11.8"
  }
 },
 "nbformat": 4,
 "nbformat_minor": 5
}
